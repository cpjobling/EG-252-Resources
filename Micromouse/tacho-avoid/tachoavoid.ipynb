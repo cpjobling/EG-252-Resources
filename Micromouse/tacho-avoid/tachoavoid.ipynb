{
 "cells": [
  {
   "cell_type": "markdown",
   "metadata": {
    "slideshow": {
     "slide_type": "slide"
    }
   },
   "source": [
    "# The Anatomy of a Micromouse Programme\n",
    "\n",
    "## With enough C to get by!\n",
    "\n",
    "By Chris Jobling"
   ]
  },
  {
   "cell_type": "markdown",
   "metadata": {
    "slideshow": {
     "slide_type": "slide"
    }
   },
   "source": [
    "## Acknowledgement\n",
    "\n",
    "The code that this document is based on is [tachovoid.c](https://github.com/cpjobling/EG-252-Resources/blob/master/Micromouse/tacho-avoid/tachoavoid.c) written by Dr Timothy Davies for the EG-252 Group Design Exercise."
   ]
  },
  {
   "cell_type": "markdown",
   "metadata": {
    "slideshow": {
     "slide_type": "slide"
    }
   },
   "source": [
    "## File header\n",
    "\n",
    "Each programme should have an explanatory comment at the top which describes the purpose of the programme and gives some technical detail. In this case, `tachoavoid` is a test programme that provides the minimum functionality needed to successfully achieve obstacle avoidance under the assumption that there are two infrared sensors giving a digital input of logic \"1\" if they detect an obstacle and two touch bars which go to logic \"0\" if they touch an obstacle."
   ]
  },
  {
   "cell_type": "markdown",
   "metadata": {
    "slideshow": {
     "slide_type": "fragment"
    }
   },
   "source": [
    "The mouse will drive forward if there are no obstacles detected. "
   ]
  },
  {
   "cell_type": "markdown",
   "metadata": {
    "slideshow": {
     "slide_type": "fragment"
    }
   },
   "source": [
    "The motors are driven using the same PWM set up examined in Exercise 4. "
   ]
  },
  {
   "cell_type": "markdown",
   "metadata": {
    "slideshow": {
     "slide_type": "fragment"
    }
   },
   "source": [
    "In addition there is some feedback, provided by tachometers, that is used to adjust the PWM duty cycles in order to keep the motors are roughly the same speed so that the mouse will travel in a straight line."
   ]
  },
  {
   "cell_type": "markdown",
   "metadata": {
    "slideshow": {
     "slide_type": "subslide"
    }
   },
   "source": [
    "This is summarized in the main comment\n",
    "\n",
    "```c\n",
    "/*\n",
    "\n",
    "Test Programme for the AW60 micromouse board\n",
    "\n",
    "\n",
    "This version gives direction control of the two motors but with interrupts to\n",
    "give PWM speed control. Inputs from the Hall Effect tachometers are used to\n",
    "adjust the motor speeds so that the machine travels in a straight line.\n",
    "\n",
    "Three interrupts are used to PWM the motors: the timer overflow for TPM1 timer,\n",
    "which sets the overflow frequency of 100 Hz with bus clock rate 2MHz, turns both\n",
    "motors on. TPM1 channel 1 and TPM1 channel 2 turn off the left and right motors.\n",
    "Variables `PWM_LEFT` and `PWM_RIGHT` are the \"instantaneous\" values of the PWM.\n",
    "\n",
    "Two interrupts are used to measure the speed of the left and right motors.\n",
    "Consecutive TPM2 channel 0 and channel 1 interrupts are subtracted to give\n",
    "two variables `DIFF_LEFT` and `DIFF_RIGHT` which are used by the procedure \"speedcon\".\n",
    "\n",
    "The main programme performs a simple avoidance action, using active low inputs from\n",
    "the touch bars and active high inputs from the IR sensors.\n",
    "\n",
    "Variable `COUNTER` is a 16-bit integer which is decremented every 10 ms.\n",
    "Variable `DISTANCE` is a 16-bit integer which is decremented after every\n",
    "tachometer pulse. \n",
    "\n",
    "One mm of travel is approximately 4 units in `DISTANCE`.\n",
    "\n",
    "*/\n",
    "```"
   ]
  },
  {
   "cell_type": "markdown",
   "metadata": {
    "slideshow": {
     "slide_type": "slide"
    }
   },
   "source": [
    "## Include files and Macros\n",
    "\n",
    "Since its early days, C has used a two pass compilation process. In the first pass, a *macro processer* is used to interpret macro instructions and replace any symbol that matches the definition with the result of the macro expansion. This is a multiple pass process and the macro processor loads and reloads the source files sufficient times to ensure that all macros have been replaced by their definitions."
   ]
  },
  {
   "cell_type": "markdown",
   "metadata": {
    "slideshow": {
     "slide_type": "fragment"
    }
   },
   "source": [
    "One this is done, the c-compiler takes over and compiles the actual source code. If you are sufficiently interested, you can view the resulting pure c programme, but this is rarely necessary with modern compilers and IDEs."
   ]
  },
  {
   "cell_type": "markdown",
   "metadata": {
    "slideshow": {
     "slide_type": "subslide"
    }
   },
   "source": [
    "There are two types of macro that we use: `#include` and `#define`"
   ]
  },
  {
   "cell_type": "markdown",
   "metadata": {
    "slideshow": {
     "slide_type": "subslide"
    }
   },
   "source": [
    "### Hash-include `#include`\n",
    "\n",
    "This literally *includes* the *content* of a file at the point of declaration. "
   ]
  },
  {
   "cell_type": "markdown",
   "metadata": {
    "slideshow": {
     "slide_type": "fragment"
    }
   },
   "source": [
    "So in the following, we are loading the definitions needed for the `EnableInterrupts` macro and a file that lists all the standard names for the registers etc that are defined in the AW60 reference manuals."
   ]
  },
  {
   "cell_type": "markdown",
   "metadata": {
    "slideshow": {
     "slide_type": "fragment"
    }
   },
   "source": [
    "```c\n",
    "#include <hidef.h>      // for EnableInterrupts macro\n",
    "#include \"derivative.h\" // include peripheral declarations\n",
    "```"
   ]
  },
  {
   "cell_type": "markdown",
   "metadata": {
    "slideshow": {
     "slide_type": "notes"
    }
   },
   "source": [
    "There is a subtle difference in semantics between the syntax `#include <hidef.h>` and syntax `#include \"derivative.h\"` which need not concern us here. Just be aware that any programme that you write for the AW60 should include these two lines."
   ]
  },
  {
   "cell_type": "markdown",
   "metadata": {
    "slideshow": {
     "slide_type": "subslide"
    }
   },
   "source": [
    "### Hash-define `#define`\n",
    "\n",
    "The hash-define keyword is used to define constants and sometimes structures that look like functions with arguments. The macro processor expands these in place so the second argument is literally written into the code at the point at which the second argument is used in the code."
   ]
  },
  {
   "cell_type": "markdown",
   "metadata": {
    "slideshow": {
     "slide_type": "fragment"
    }
   },
   "source": [
    "Our main purpose is to to define symbols for constants, registers, or bits within registers, so that we can provide readable definiations for values that have some useful meaning. Note that these are not assignments, the definitions do not create any new variables. There are no semi colons in the definitions."
   ]
  },
  {
   "cell_type": "markdown",
   "metadata": {
    "slideshow": {
     "slide_type": "notes"
    }
   },
   "source": [
    "### Why do we have macros?\n",
    "\n",
    "The main benefit of the macro processor is to ensure that we avoid typing raw numbers into code or tie ourselves down to a particular hardware configuration.\n",
    "\n",
    "We can thus change the global definition of a symbol, constant or memory location simply by changing a single definition, or loading a different `derivative.h` file.\n",
    "\n",
    "When you look at the code in a debugger, there will not be a variable for a macro, rather there will be a number. \n",
    "\n",
    "In a microcontroller code, the values inserted by the macro pre-processor will be a data value to be used in an instruction, equivalent to the *load immediate instruction* in assembler, or the address of a register in memory, or the content of a bit, or group of bits, in one of those registers."
   ]
  },
  {
   "cell_type": "markdown",
   "metadata": {
    "slideshow": {
     "slide_type": "subslide"
    }
   },
   "source": [
    "### Conventions for use of macros\n",
    "\n",
    "Macro definitions are usually written using all caps with underscores between words. This is so they standout visually when you read the code. "
   ]
  },
  {
   "cell_type": "markdown",
   "metadata": {
    "slideshow": {
     "slide_type": "fragment"
    }
   },
   "source": [
    "It is also conventional to define all your macros at the top of the programme before the actual code starts. "
   ]
  },
  {
   "cell_type": "markdown",
   "metadata": {
    "slideshow": {
     "slide_type": "fragment"
    }
   },
   "source": [
    "It's a good idea to add comments to your macro definitions and give them meaningful names."
   ]
  },
  {
   "cell_type": "markdown",
   "metadata": {
    "slideshow": {
     "slide_type": "notes"
    }
   },
   "source": [
    "Professional C-programmers will often put macro definitions into separate include files so that they can easily be shared across multiple source files within a project."
   ]
  },
  {
   "cell_type": "markdown",
   "metadata": {
    "slideshow": {
     "slide_type": "subslide"
    }
   },
   "source": [
    "### Micromouse macros\n",
    "\n",
    "```c\n",
    "#define TBFL PTAD_PTAD1\n",
    "\n",
    "#define STOP 0b00000000\n",
    "#define FWD  0b00000101\n",
    "#define REV  0b00001010\n",
    "#define ACW  0b00001001\n",
    "#define CW   0b00000110\n",
    "#define SFL  0b00000001 //Swerve forward and left\n",
    "#define SFR  0b00000100 //Swerve forward and right\n",
    "\n",
    "#define bitClear 0\n",
    "#define SCALE 1\n",
    "```"
   ]
  },
  {
   "cell_type": "markdown",
   "metadata": {
    "slideshow": {
     "slide_type": "slide"
    }
   },
   "source": [
    "## Function prototype definitions\n",
    "\n",
    "Standard C recommends that you define the structure of any subroutines you will be using later using \"prototypes\". "
   ]
  },
  {
   "cell_type": "markdown",
   "metadata": {
    "slideshow": {
     "slide_type": "fragment"
    }
   },
   "source": [
    "This is primarily to ensure that a single definition of a function can be shared across a project and to faciltate the creation of shared libraries. But it also helps the compiler to check that function usage is consistent across a project."
   ]
  },
  {
   "cell_type": "markdown",
   "metadata": {
    "slideshow": {
     "slide_type": "subslide"
    }
   },
   "source": [
    "In our case, this set of prototypes, which define the high-level programming interface for the micromouse, could be in a separate include file as would the definition of the subroutines. "
   ]
  },
  {
   "cell_type": "markdown",
   "metadata": {
    "slideshow": {
     "slide_type": "fragment"
    }
   },
   "source": [
    "This would also facilitate the creation of a micro mouse library for the AW60 and another for say, an Arduino, easier to develop and compile in as appropriate."
   ]
  },
  {
   "cell_type": "markdown",
   "metadata": {
    "slideshow": {
     "slide_type": "subslide"
    }
   },
   "source": [
    "The function prototypes for the micromouse are:"
   ]
  },
  {
   "cell_type": "markdown",
   "metadata": {
    "slideshow": {
     "slide_type": "fragment"
    }
   },
   "source": [
    "```c\n",
    "void revleft(void);\n",
    "void revright(void);\n",
    "void stop(void);\n",
    "void reverse(void);\n",
    "void turnleft(void);\n",
    "void turnright(void);\n",
    "void iravoidl(void);\n",
    "void iravoidr(void);\n",
    "void speedcon(void);\n",
    "```"
   ]
  },
  {
   "cell_type": "markdown",
   "metadata": {
    "slideshow": {
     "slide_type": "notes"
    }
   },
   "source": [
    "Note a `void` function with a `void` argument passes no arguments and returns no values. We call a function that returns nothing a *subroutine*.\n",
    "\n",
    "As the project develops, you will probably wish to add more functioms to this list."
   ]
  },
  {
   "cell_type": "markdown",
   "metadata": {
    "slideshow": {
     "slide_type": "slide"
    }
   },
   "source": [
    "## Variable declarations\n",
    "\n",
    "Any variables that you are going to use should be defined next. The types are important in C, not only in the sense that they define the size of a data value (usually 4 bits for a character and 8 or 16 bits for integers), but also how they are interpreted in programmes, e.g. signed, unsigned, ASCII character, floating point number, etc."
   ]
  },
  {
   "cell_type": "markdown",
   "metadata": {
    "slideshow": {
     "slide_type": "notes"
    }
   },
   "source": [
    "You can also use `typedef` to define new names for specific types or even to define structures. We have largely avoided using `typedef` here, though you have seen examples of its use in the lab exercises, and there are others in the *derivative.h* include file."
   ]
  },
  {
   "cell_type": "markdown",
   "metadata": {
    "slideshow": {
     "slide_type": "fragment"
    }
   },
   "source": [
    "It is conventional to use lower-case letters for variables, but Dr Davies regularly violates this convention!"
   ]
  },
  {
   "cell_type": "markdown",
   "metadata": {
    "slideshow": {
     "slide_type": "subslide"
    }
   },
   "source": [
    "### Data types\n",
    "\n",
    "How much memory is assigned to the standard data types in C values is usually an implementation issue and you need to refer to the user manual. "
   ]
  },
  {
   "cell_type": "markdown",
   "metadata": {
    "slideshow": {
     "slide_type": "fragment"
    }
   },
   "source": [
    "In the AW60, the 1-byte datatypes `short`, `byte` or a `char` are signed 4-bit integers; the 2-byte `word` and `int` datatypes are signed 8-bit integers. A `long` is a 4-byte (32-bit) signed integer. "
   ]
  },
  {
   "cell_type": "markdown",
   "metadata": {
    "slideshow": {
     "slide_type": "fragment"
    }
   },
   "source": [
    "You can prefix the type with the keyword `unsigned` which inhibits twos-complement arithmetic."
   ]
  },
  {
   "cell_type": "markdown",
   "metadata": {
    "slideshow": {
     "slide_type": "fragment"
    }
   },
   "source": [
    "Other options which are rarely used in microcontrollers are `float` (32 bits), and `double` (64 bits) which can be used to represent real (floating point) numbers."
   ]
  },
  {
   "cell_type": "markdown",
   "metadata": {
    "slideshow": {
     "slide_type": "subslide"
    }
   },
   "source": [
    "### Constants\n",
    "\n",
    "Constants are values that do not change during the execution of a programme. For this reason, modern compilers do not create storage for them, instead replacing their use with the value."
   ]
  },
  {
   "cell_type": "markdown",
   "metadata": {
    "slideshow": {
     "slide_type": "fragment"
    }
   },
   "source": [
    "Hence, in C, constants are more usually declared using the `#define` macro directive."
   ]
  },
  {
   "cell_type": "markdown",
   "metadata": {
    "slideshow": {
     "slide_type": "fragment"
    }
   },
   "source": [
    "In Dr Davies' example, he has declared variables for the constants."
   ]
  },
  {
   "cell_type": "markdown",
   "metadata": {
    "slideshow": {
     "slide_type": "subslide"
    }
   },
   "source": [
    "```c\n",
    "byte MODCNTH = 0x4E, MODCNTL = 0x20; // values for the modulo registers (0x4E20)\n",
    "\n",
    "byte INIT_CHNCNTH = 0x40, INIT_CHNCNTL = 0x00; // set the IOC register to 0x3000 for output compare function\n",
    "\n",
    "word REPEAT = 0x4E20; // sets PWM repeat time (frequency = 100Hz)\n",
    "word NOM_SPEED = 0x2000;\n",
    "word PW_LEFT = 0x2000;\n",
    "word PW_RIGHT = 0x2000;\n",
    "word PW_MAX = 0x3000;\n",
    "word PW_MIN = 0x1000;\n",
    "```"
   ]
  },
  {
   "cell_type": "markdown",
   "metadata": {
    "slideshow": {
     "slide_type": "subslide"
    }
   },
   "source": [
    "A valid, and arguably more idiomatic alternative would be to use macros:\n",
    "```c\n",
    "#define MODCNTH      0x4E\n",
    "#define MODCNTL      0x20 // values for the modulo registers (0x4E20)\n",
    "\n",
    "#define INIT_CHNCNTH 0x40\n",
    "#define INIT_CHNCNTL 0x00 // set the IOC register to 0x3000 for output compare function\n",
    "\n",
    "#define REPEAT       0x4E20 // sets PWM repeat time (frequency = 100Hz)\n",
    "#define NOM_SPEED    0x2000\n",
    "#define PW_LEFT      0x2000\n",
    "#define PW_RIGHT     0x2000\n",
    "#define PW_MAX       0x3000\n",
    "#define PW_MIN       0x1000\n",
    "```"
   ]
  },
  {
   "cell_type": "markdown",
   "metadata": {
    "slideshow": {
     "slide_type": "subslide"
    }
   },
   "source": [
    "### Global variables\n",
    "\n",
    "Global variables are data values that are visible to the entire programme. "
   ]
  },
  {
   "cell_type": "markdown",
   "metadata": {
    "slideshow": {
     "slide_type": "fragment"
    }
   },
   "source": [
    "They are often used in microcontroller applications because you have limited storage. "
   ]
  },
  {
   "cell_type": "markdown",
   "metadata": {
    "slideshow": {
     "slide_type": "fragment"
    }
   },
   "source": [
    "Note standard C conventions would use lower case names for these variables to distunguish them from contants."
   ]
  },
  {
   "cell_type": "markdown",
   "metadata": {
    "slideshow": {
     "slide_type": "subslide"
    }
   },
   "source": [
    "These are the key global variables that are used in the low-level drive functions. \n",
    "\n",
    "```c\n",
    "byte DRIVE;\n",
    "\n",
    "word DISTANCE;\n",
    "word NEW_LEFT;\n",
    "word OLD_LEFT;\n",
    "word DIFF_LEFT;\n",
    "\n",
    "word NEW_RIGHT;\n",
    "word OLD_RIGHT;\n",
    "word DIFF_RIGHT;\n",
    "\n",
    "word CORR = 0;\n",
    "\n",
    "word COUNTER;\n",
    "```"
   ]
  },
  {
   "cell_type": "markdown",
   "metadata": {
    "slideshow": {
     "slide_type": "notes"
    }
   },
   "source": [
    "Generally, the use of global variables is to be avoided. Instead, modern practice is to pass values around through function parameters and return values supported by local variables that exist only within the scope of a block or a function. The stack is used for local variable scoping and parameter passing."
   ]
  },
  {
   "cell_type": "markdown",
   "metadata": {
    "slideshow": {
     "slide_type": "slide"
    }
   },
   "source": [
    "## The Main function\n",
    "\n",
    "In C, programme execution always starts in the `main` function. "
   ]
  },
  {
   "cell_type": "markdown",
   "metadata": {
    "slideshow": {
     "slide_type": "subslide"
    }
   },
   "source": [
    "```c\n",
    "void main(void)\n",
    "{\n",
    "    \n",
    "    // intialization\n",
    "    \n",
    "    // enable interrupts\n",
    "    \n",
    "    // main loop\n",
    "    \n",
    "}\n",
    "```"
   ]
  },
  {
   "cell_type": "markdown",
   "metadata": {
    "slideshow": {
     "slide_type": "subslide"
    }
   },
   "source": [
    "### Initialization\n",
    "\n",
    "In microcontroller applications, the first part of `main` is concerned with the initialisation of ports, control registers, interrupts etc. "
   ]
  },
  {
   "cell_type": "markdown",
   "metadata": {
    "slideshow": {
     "slide_type": "fragment"
    }
   },
   "source": [
    "Initialization should only happen once for each major function of the micromouse."
   ]
  },
  {
   "cell_type": "markdown",
   "metadata": {
    "slideshow": {
     "slide_type": "subslide"
    }
   },
   "source": [
    "#### COP and clock source\n",
    "\n",
    "In the AW60, we first turn off the watchdog timer and select the external quartz crystal so that we will have a bus frequency of 2 MHz. "
   ]
  },
  {
   "cell_type": "markdown",
   "metadata": {
    "slideshow": {
     "slide_type": "fragment"
    }
   },
   "source": [
    "```c\n",
    "SOPT = 0x00; // disable COP (watchtimer)\n",
    "\n",
    "ICGC1 = 0x74; // select external quartz crystal\n",
    "\n",
    "```"
   ]
  },
  {
   "cell_type": "markdown",
   "metadata": {
    "slideshow": {
     "slide_type": "subslide"
    }
   },
   "source": [
    "#### General Port IO\n",
    "\n",
    "Next we set up the General I/O ports as digital inputs or outputs using the data-direction registers and the pull-up enable operators as appropriate for the types of input."
   ]
  },
  {
   "cell_type": "markdown",
   "metadata": {
    "slideshow": {
     "slide_type": "fragment"
    }
   },
   "source": [
    "Note, digital ports are inputs by default!"
   ]
  },
  {
   "cell_type": "markdown",
   "metadata": {
    "slideshow": {
     "slide_type": "subslide"
    }
   },
   "source": [
    "```c\n",
    "// Init_GPIO init code\n",
    "\n",
    "PTFDD = 0x0F; // set port F as outputs for motor drive on bits PTFD bits 0-3.\n",
    "\n",
    "PTDPE = 0b00001100; // use PTDD bits 2, 3 as input ports for touch bars\n",
    "```"
   ]
  },
  {
   "cell_type": "markdown",
   "metadata": {
    "slideshow": {
     "slide_type": "subslide"
    }
   },
   "source": [
    "#### Timers and PWM\n",
    "\n",
    "In this case, the timer one is used initialise two completely automatic, interrupt-driven, PWM processes which will drive the motors at a constant velocity and the mouse in a forward direction. \n",
    "\n",
    "You did this yourselves in Exercise 4."
   ]
  },
  {
   "cell_type": "markdown",
   "metadata": {
    "slideshow": {
     "slide_type": "subslide"
    }
   },
   "source": [
    "Use timer 1 to generate a base frequency of 100 Hz."
   ]
  },
  {
   "cell_type": "markdown",
   "metadata": {
    "slideshow": {
     "slide_type": "fragment"
    }
   },
   "source": [
    "```c\n",
    "// configure TPM module 1\n",
    "\n",
    "TPM1SC = 0x48; // format: TOF(0) TOIE(1) CPWMS(0) CLKSB(0) CLKSA(1) PS2(0) PS1(0) PS0(0)\n",
    "\n",
    "TPM1MOD = REPEAT; // set the counter modulo registers to 0x4E20 (= 20000 decimal).\n",
    "```"
   ]
  },
  {
   "cell_type": "markdown",
   "metadata": {
    "slideshow": {
     "slide_type": "subslide"
    }
   },
   "source": [
    "A couple of timer interrupts are used to generate 2 PWM signals."
   ]
  },
  {
   "cell_type": "markdown",
   "metadata": {
    "slideshow": {
     "slide_type": "fragment"
    }
   },
   "source": [
    "```c\n",
    "// configure TPM1 channel 1\n",
    "\n",
    "TPM1C1SC = 0x50; // TPM1 Channel 1\n",
    "\n",
    "TPM1C1V = NOM_SPEED; // set the channel 1 registers to 0x1000\n",
    "\n",
    "TPM1C2SC = 0x50; // TPM1 Channel 2\n",
    "\n",
    "TPM1C2V = NOM_SPEED; // set the channel 2 registers to 0x1000\n",
    "```"
   ]
  },
  {
   "cell_type": "markdown",
   "metadata": {
    "slideshow": {
     "slide_type": "subslide"
    }
   },
   "source": [
    "Timer 2 is used as a data-capture system to measure the speed of each motor. The drive algorithm adjusts the duty cycle in order to keep the motors running at the same speed."
   ]
  },
  {
   "cell_type": "markdown",
   "metadata": {
    "slideshow": {
     "slide_type": "fragment"
    }
   },
   "source": [
    "You haven't seen this before so it deserves study."
   ]
  },
  {
   "cell_type": "markdown",
   "metadata": {
    "slideshow": {
     "slide_type": "fragment"
    }
   },
   "source": [
    "```c\n",
    "TPM2SC = 0x08;   //select bus clock for TPM2, no TOV\n",
    "TPM2C0SC = 0x44; //turn on edge interrupt for TPM2 C0\n",
    "TPM2C1SC = 0x44; //turn on edge interrupt for TPM2 C1\n",
    "```"
   ]
  },
  {
   "cell_type": "markdown",
   "metadata": {
    "slideshow": {
     "slide_type": "subslide"
    }
   },
   "source": [
    "### Enable interrupts\n",
    "\n",
    "We then enable interupts and go into the main loop. "
   ]
  },
  {
   "cell_type": "markdown",
   "metadata": {
    "slideshow": {
     "slide_type": "fragment"
    }
   },
   "source": [
    "```c\n",
    "EnableInterrupts; // enable interrupts\n",
    "```"
   ]
  },
  {
   "cell_type": "markdown",
   "metadata": {
    "slideshow": {
     "slide_type": "subslide"
    }
   },
   "source": [
    "### The event loop\n",
    "\n",
    "This use of an endless loop inside a programme is very common in modern computing and is called an *event loop*. Programmes that use an event loop and rely on polling or interrupts to change their behaviour are called *even-driven programmes*. "
   ]
  },
  {
   "cell_type": "markdown",
   "metadata": {
    "slideshow": {
     "slide_type": "fragment"
    }
   },
   "source": [
    "If nothing else happens, the mouse will  move forwards, hopefully in a straight line. "
   ]
  },
  {
   "cell_type": "markdown",
   "metadata": {
    "slideshow": {
     "slide_type": "subslide"
    }
   },
   "source": [
    "Every time around the main loop, the four digital inputs, two touch-bar inputs -- which go to logic 0 if they touch something -- and two infrared sensors (left and right) -- which go to logic 1 if they \"see\" something -- are polled and suitable commands are issued to change manouvre the mouse depending on the combinations of inputs that are active."
   ]
  },
  {
   "cell_type": "markdown",
   "metadata": {
    "slideshow": {
     "slide_type": "notes"
    }
   },
   "source": [
    "Event-driven programmes are very challenging to build, test and debug because when events will occour is unpredictable. "
   ]
  },
  {
   "cell_type": "markdown",
   "metadata": {
    "slideshow": {
     "slide_type": "notes"
    }
   },
   "source": [
    "They are even harder in microcontrollers because you do not have easy access to a `print` function or a console through which you can monitor the current state of your programme."
   ]
  },
  {
   "cell_type": "markdown",
   "metadata": {
    "slideshow": {
     "slide_type": "fragment"
    }
   },
   "source": [
    "The event loop for obstacle avoidance is quite simple for the micromouse. Effectively it is drive forward unless you see an obstacle."
   ]
  },
  {
   "cell_type": "markdown",
   "metadata": {
    "slideshow": {
     "slide_type": "subslide"
    }
   },
   "source": [
    "```c\n",
    "for (;;)\n",
    "{\n",
    "    DRIVE = FWD;\n",
    "    \n",
    "    // poll sensors\n",
    "\n",
    "    // if touch bars touched ... reverse and turn\n",
    "    \n",
    "    // if IR sensors activated ... turn to avoid\n",
    "   \n",
    "} // loop forever\n",
    "```"
   ]
  },
  {
   "cell_type": "markdown",
   "metadata": {
    "slideshow": {
     "slide_type": "fragment"
    }
   },
   "source": [
    "Because of its size. I haven't provided the code, the detail is to be found in the code [tachoavoid.c](https://github.com/cpjobling/EG-252-Resources/blob/master/Micromouse/tacho-avoid/tachoavoid.c)"
   ]
  },
  {
   "cell_type": "markdown",
   "metadata": {
    "slideshow": {
     "slide_type": "subslide"
    }
   },
   "source": [
    "### Note for Arduino users\n",
    "\n",
    "Ardino programmers do not have direct access to the `main` function. Instead there is an `setup` method for initialization which is called once and a separate `loop` function that starts the *event loop* and is executed automatically every loop cycle."
   ]
  },
  {
   "cell_type": "markdown",
   "metadata": {
    "slideshow": {
     "slide_type": "slide"
    }
   },
   "source": [
    "## Low-level functions \n",
    "\n",
    "The functions that link the basic operation of the microntroller to the higher-level functions are close to the machine. There are two types in `tachoavoid.c`. These are the interupt service routines and the basic movement functions. "
   ]
  },
  {
   "cell_type": "markdown",
   "metadata": {
    "slideshow": {
     "slide_type": "subslide"
    }
   },
   "source": [
    "### Interrupt service routines\n",
    "\n",
    "In this example the ISRs are all concerned with timer functions. "
   ]
  },
  {
   "cell_type": "markdown",
   "metadata": {
    "slideshow": {
     "slide_type": "fragment"
    }
   },
   "source": [
    "I just list these without further comment."
   ]
  },
  {
   "cell_type": "markdown",
   "metadata": {
    "slideshow": {
     "slide_type": "subslide"
    }
   },
   "source": [
    "#### Timers for PWM\n",
    "\n",
    "Set base frequency and turn on motors."
   ]
  },
  {
   "cell_type": "markdown",
   "metadata": {
    "slideshow": {
     "slide_type": "subslide"
    }
   },
   "source": [
    "```c\n",
    "interrupt 11 void TPM1SC_overflow()\n",
    "{ // interrupt vector: Vtpm1\n",
    "\n",
    "    TPM1SC_TOF = bitClear;\n",
    "\n",
    "    PTFD = DRIVE; // turn on motors as configured by DRIVE (port A switches).\n",
    "\n",
    "    speedcon();\n",
    "\n",
    "    if (COUNTER != 0)\n",
    "    {\n",
    "        COUNTER--;\n",
    "    }\n",
    "}\n",
    "```"
   ]
  },
  {
   "cell_type": "markdown",
   "metadata": {
    "slideshow": {
     "slide_type": "subslide"
    }
   },
   "source": [
    "Turn motor 1 off at the end on the \"on\" cycle.\n",
    "\n",
    "```c\n",
    "interrupt 6 void TPM1C1SC_int()\n",
    "{ // interrupt vector: Vtpm1ch1\n",
    "\n",
    "    TPM1C1SC_CH1F = bitClear;\n",
    "\n",
    "    PTFD = PTFD | 0x03; // set free-wheel mode for one motor instead of turn off\n",
    "}\n",
    "```"
   ]
  },
  {
   "cell_type": "markdown",
   "metadata": {
    "slideshow": {
     "slide_type": "subslide"
    }
   },
   "source": [
    "Turn motor 2 off at the end on the \"on\" cycle.\n",
    "\n",
    "```\n",
    "interrupt 7 void TPM1C2SC_int()\n",
    "{ // interrupt vector: Vtpm1ch1\n",
    "\n",
    "    TPM1C2SC_CH2F = bitClear;\n",
    "\n",
    "    PTFD = PTFD | 0x0C; // set free-wheel mode for other motor instead of turn off\n",
    "}\n",
    "```"
   ]
  },
  {
   "cell_type": "markdown",
   "metadata": {
    "slideshow": {
     "slide_type": "subslide"
    }
   },
   "source": [
    "### Timers used for speed measurement\n",
    "\n",
    "Uses data capture function to measure time between pulses on the two tachos."
   ]
  },
  {
   "cell_type": "markdown",
   "metadata": {
    "slideshow": {
     "slide_type": "subslide"
    }
   },
   "source": [
    "Motor 1: Measure and adjust\n",
    "\n",
    "```c\n",
    "interrupt 12 void TPM2C0SC_int()\n",
    "{\n",
    "    TPM2C0SC_CH0F = bitClear;\n",
    "\n",
    "    NEW_LEFT = TPM2C0V;\n",
    "    DIFF_LEFT = NEW_LEFT - OLD_LEFT;\n",
    "    OLD_LEFT = NEW_LEFT;\n",
    "    if (DISTANCE != 0)\n",
    "    {\n",
    "        DISTANCE--;\n",
    "    }\n",
    "\n",
    "    //\tPTBD = PTBD ^ 0B00000001;\n",
    "}\n",
    "```"
   ]
  },
  {
   "cell_type": "markdown",
   "metadata": {
    "slideshow": {
     "slide_type": "subslide"
    }
   },
   "source": [
    "Motor 2: measure and adjust\n",
    "```c\n",
    "interrupt 13 void TPM2C1SC_int()\n",
    "{\n",
    "    TPM2C1SC_CH1F = bitClear;\n",
    "\n",
    "    NEW_RIGHT = TPM2C1V;\n",
    "    DIFF_RIGHT = NEW_RIGHT - OLD_RIGHT;\n",
    "    OLD_RIGHT = NEW_RIGHT;\n",
    "    if (DISTANCE != 0)\n",
    "    {\n",
    "        DISTANCE--;\n",
    "    }\n",
    "\n",
    "    //\tPTBD = PTBD ^ 0B00000010;\n",
    "}\n",
    "```"
   ]
  },
  {
   "cell_type": "markdown",
   "metadata": {
    "slideshow": {
     "slide_type": "subslide"
    }
   },
   "source": [
    "### Basic movement\n",
    "\n",
    "These are the basic building blocks for the micromouse. They are the key functions that communicate directly with the hardware. If you were to implement a micromouse using a different microcontroller, these are the only functions that you would need to rewrite in order to port your high-level functions to different hardware."
   ]
  },
  {
   "cell_type": "markdown",
   "metadata": {
    "slideshow": {
     "slide_type": "fragment"
    }
   },
   "source": [
    "It is worth noting that global variables `DRIVE` and `DISTANCE` are used to track the state of the mouse drive system at any given time. There are alternative ways to do this which would not require global variables, but that is left as an exercise for the reader."
   ]
  },
  {
   "cell_type": "markdown",
   "metadata": {
    "slideshow": {
     "slide_type": "fragment"
    }
   },
   "source": [
    "Once again, the code is presented without too much commentary. The function is fairly obvious from the names chosen for the functions."
   ]
  },
  {
   "cell_type": "markdown",
   "metadata": {
    "slideshow": {
     "slide_type": "subslide"
    }
   },
   "source": [
    "```c\n",
    "void stop(void)\n",
    "{\n",
    "    DRIVE = 0;\n",
    "}\n",
    "```"
   ]
  },
  {
   "cell_type": "markdown",
   "metadata": {
    "slideshow": {
     "slide_type": "subslide"
    }
   },
   "source": [
    "```c\n",
    "void reverse(void)\n",
    "{\n",
    "    DISTANCE = 200;\n",
    "    DRIVE = REV;\n",
    "    while (DISTANCE != 0)\n",
    "    {\n",
    "    }\n",
    "}\n",
    "```"
   ]
  },
  {
   "cell_type": "markdown",
   "metadata": {
    "slideshow": {
     "slide_type": "subslide"
    }
   },
   "source": [
    "```c\n",
    "void turnleft(void)\n",
    "{\n",
    "    DISTANCE = 100;\n",
    "    DRIVE = ACW;\n",
    "    while (DISTANCE != 0)\n",
    "    {\n",
    "    }\n",
    "}\n",
    "```"
   ]
  },
  {
   "cell_type": "markdown",
   "metadata": {
    "slideshow": {
     "slide_type": "subslide"
    }
   },
   "source": [
    "```c\n",
    "void turnright(void)\n",
    "{\n",
    "    DISTANCE = 100;\n",
    "    DRIVE = CW;\n",
    "    while (DISTANCE != 0)\n",
    "    {\n",
    "    }\n",
    "}\n",
    "```"
   ]
  },
  {
   "cell_type": "markdown",
   "metadata": {
    "slideshow": {
     "slide_type": "slide"
    }
   },
   "source": [
    "## High-level functions"
   ]
  },
  {
   "cell_type": "markdown",
   "metadata": {
    "slideshow": {
     "slide_type": "fragment"
    }
   },
   "source": [
    "These are defined in terms of the simple functions `stop`, `reverse`, `turnleft`, `turnright` defined above. "
   ]
  },
  {
   "cell_type": "markdown",
   "metadata": {
    "slideshow": {
     "slide_type": "fragment"
    }
   },
   "source": [
    "These functions can be used as the building blocks for further higher level functions sunch as `turn_on_a_corner` for line following, or `attack` and `retreat` for combat. "
   ]
  },
  {
   "cell_type": "markdown",
   "metadata": {
    "slideshow": {
     "slide_type": "subslide"
    }
   },
   "source": [
    "Building up \"layers of abtraction\" using functions is the key to creating larger systems. "
   ]
  },
  {
   "cell_type": "markdown",
   "metadata": {
    "slideshow": {
     "slide_type": "fragment"
    }
   },
   "source": [
    "It allows us to free ourselves from the nitty-gritty details needed to drive the mouse and instead concentrate on implementing the desired required functionality: `onstacle_avoidance`, `line_following`, `combat` and even other funtions such as `maze_solving`."
   ]
  },
  {
   "cell_type": "markdown",
   "metadata": {
    "slideshow": {
     "slide_type": "subslide"
    }
   },
   "source": [
    "```c\n",
    "void revleft(void)\n",
    "{\n",
    "    stop();\n",
    "    reverse();\n",
    "    stop();\n",
    "    turnleft();\n",
    "    stop();\n",
    "    //forward\n",
    "}\n",
    "```"
   ]
  },
  {
   "cell_type": "markdown",
   "metadata": {
    "slideshow": {
     "slide_type": "subslide"
    }
   },
   "source": [
    "```c\n",
    "void revright(void)\n",
    "{\n",
    "    stop();\n",
    "    reverse();\n",
    "    stop();\n",
    "    turnright();\n",
    "    stop();\n",
    "    //forward\n",
    "}\n",
    "```"
   ]
  },
  {
   "cell_type": "markdown",
   "metadata": {
    "slideshow": {
     "slide_type": "subslide"
    }
   },
   "source": [
    "```c\n",
    "void iravoidl(void)\n",
    "{\n",
    "\n",
    "    stop();\n",
    "    turnleft();\n",
    "    stop();\n",
    "    //forward\n",
    "}\n",
    "```"
   ]
  },
  {
   "cell_type": "markdown",
   "metadata": {
    "slideshow": {
     "slide_type": "subslide"
    }
   },
   "source": [
    "```c\n",
    "void iravoidr(void)\n",
    "{\n",
    "\n",
    "    stop();\n",
    "    turnright();\n",
    "    stop();\n",
    "    //forward\n",
    "}\n",
    "```"
   ]
  },
  {
   "cell_type": "markdown",
   "metadata": {
    "slideshow": {
     "slide_type": "subslide"
    }
   },
   "source": [
    "### Speed control\n",
    "\n",
    "This is the most complex code in the micro mouse programme. It uses any difference in the speed measurements to adjust the PWM duty cycle of each motor as necessary to ensure that the are both running at the same speed.\n",
    "\n",
    "I will leave to Dr Davies to explain how it works!"
   ]
  },
  {
   "cell_type": "markdown",
   "metadata": {
    "slideshow": {
     "slide_type": "subslide"
    }
   },
   "source": [
    "```c\n",
    "void speedcon(void)\n",
    "{\n",
    "\n",
    "    if (DIFF_RIGHT != DIFF_LEFT)\n",
    "    {\n",
    "\n",
    "        if (DIFF_RIGHT > DIFF_LEFT)\n",
    "        {\n",
    "\n",
    "            CORR = (DIFF_RIGHT - DIFF_LEFT) / SCALE;\n",
    "            PW_LEFT = PW_LEFT + CORR;\n",
    "            if (PW_LEFT > PW_MAX)\n",
    "            {\n",
    "                PW_LEFT = PW_MAX;\n",
    "                PW_RIGHT = PW_MIN;\n",
    "            }\n",
    "            else\n",
    "            {\n",
    "                PW_RIGHT = PW_RIGHT - CORR;\n",
    "            }\n",
    "        }\n",
    "\n",
    "        else\n",
    "        {\n",
    "\n",
    "            CORR = (DIFF_LEFT - DIFF_RIGHT) / SCALE;\n",
    "\n",
    "            PW_RIGHT = PW_RIGHT + CORR;\n",
    "            if (PW_RIGHT > PW_MAX)\n",
    "            {\n",
    "                PW_RIGHT = PW_MAX;\n",
    "                PW_LEFT = PW_MIN;\n",
    "            }\n",
    "            else\n",
    "            {\n",
    "                PW_LEFT = PW_LEFT - CORR;\n",
    "            }\n",
    "        }\n",
    "        //The next two lines may need to be swapped over\n",
    "        TPM1C2V = PW_LEFT;\n",
    "        TPM1C1V = PW_RIGHT;\n",
    "    }\n",
    "}\n",
    "```"
   ]
  },
  {
   "cell_type": "markdown",
   "metadata": {
    "slideshow": {
     "slide_type": "slide"
    }
   },
   "source": [
    "### Other Resources\n",
    "\n",
    "* Dr Clifford's notes on [C for EG-151 2019](https://github.com/cpjobling/EG-252-Resources/blob/master/Micromouse/tacho-avoid/EG-151%20Lecture%207%20-%20Introduction%20to%20Programming%20with%20C.pdf).\n",
    "* Dr Clifford's [C Language Cheat Sheet](https://github.com/cpjobling/EG-252-Resources/blob/master/Micromouse/tacho-avoid/C%20Language%20Cheat%20Sheet.pdf).\n",
    "* Source for this document [tachoavoid.ipynb](https://github.com/cpjobling/EG-252-Resources/blob/master/Micromouse/tacho-avoid/tachoavoid.ipynb)\n",
    "* Printable version of this document [tachoavoid.pdf](https://github.com/cpjobling/EG-252-Resources/blob/master/Micromouse/tacho-avoid/tachoavoid.pdf)\n"
   ]
  }
 ],
 "metadata": {
  "celltoolbar": "Slideshow",
  "kernelspec": {
   "display_name": "Python 3",
   "language": "python",
   "name": "python3"
  },
  "language_info": {
   "codemirror_mode": {
    "name": "ipython",
    "version": 3
   },
   "file_extension": ".py",
   "mimetype": "text/x-python",
   "name": "python",
   "nbconvert_exporter": "python",
   "pygments_lexer": "ipython3",
   "version": "3.7.9"
  }
 },
 "nbformat": 4,
 "nbformat_minor": 4
}
